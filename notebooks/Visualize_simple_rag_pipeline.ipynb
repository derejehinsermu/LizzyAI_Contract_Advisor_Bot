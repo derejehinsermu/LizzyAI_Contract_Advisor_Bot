{
 "cells": [
  {
   "cell_type": "code",
   "execution_count": 18,
   "metadata": {},
   "outputs": [],
   "source": [
    "import os\n",
    "import sys\n",
    "root_path_scripts = os.path.abspath(os.path.join(os.getcwd(), '../scripts'))\n",
    "sys.path.append(root_path_scripts)\n",
    "\n",
    "root_path_scripts = os.path.abspath(os.path.join(os.getcwd(), '../scripts/visualize_simple_rag_pipe_line'))\n",
    "sys.path.append(root_path_scripts)\n",
    "\n",
    "\n",
    "root_path_scripts = os.path.abspath(os.path.join(os.getcwd(), '../scripts/load_split_data'))\n",
    "sys.path.append(root_path_scripts)\n",
    "\n",
    "root_path_scripts = os.path.abspath(os.path.join(os.getcwd(), '../scripts/simple_pipeline'))\n",
    "sys.path.append(root_path_scripts)"
   ]
  },
  {
   "cell_type": "code",
   "execution_count": null,
   "metadata": {},
   "outputs": [],
   "source": []
  },
  {
   "cell_type": "code",
   "execution_count": 19,
   "metadata": {},
   "outputs": [],
   "source": [
    "import os\n",
    "import sys\n",
    "from dotenv import load_dotenv, find_dotenv\n",
    "\n",
    "# Unset the environment variables if they are set\n",
    "if \"OPENAI_API_KEY\" in os.environ:\n",
    "    del os.environ[\"OPENAI_API_KEY\"]\n",
    "if \"MONGODB_URI\" in os.environ:\n",
    "    del os.environ[\"MONGODB_URI\"]\n",
    "\n",
    "# Load environment variables from the .env file and explicitly reload them\n",
    "load_dotenv(override=True)\n",
    "\n",
    "root_path_scripts = os.path.abspath(os.path.join(os.getcwd(), '../scripts/load_split_data'))\n",
    "sys.path.append(root_path_scripts)\n",
    "\n",
    "root_path_scripts = os.path.abspath(os.path.join(os.getcwd(), '../scripts/simple_pipeline'))\n",
    "sys.path.append(root_path_scripts)\n",
    "\n",
    "from load_split import load_document, split_document\n",
    "from simple_pipeline.retrieval import add_documents_to_vector_store\n",
    "from generator import generate_response\n",
    "from evaluator import load_evaluation_data, evaluate_responses, print_evaluation_results\n"
   ]
  },
  {
   "cell_type": "code",
   "execution_count": 23,
   "metadata": {},
   "outputs": [],
   "source": [
    "import os\n",
    "import umap\n",
    "import numpy as np\n",
    "from tqdm import tqdm\n",
    "import matplotlib.pyplot as plt\n",
    "from dotenv import load_dotenv, find_dotenv\n",
    "from load_split_data.load_split import load_document, split_document\n",
    "from visualize_simple_rag_pipe_line.retrieval import load_embeddings_from_db, query_relevant_documents, vector_store\n",
    "from visualize_simple_rag_pipe_line.generator import generate_response\n",
    "from pymongo import MongoClient\n",
    "from pymongo.server_api import ServerApi\n",
    "# Initialize embeddings model\n",
    "from visualize_simple_rag_pipe_line.retrieval import embeddings_model\n",
    "\n",
    "\n",
    "# Load environment variables from the .env file\n",
    "load_dotenv(find_dotenv())\n",
    "\n",
    "# Retrieve environment variables\n",
    "db_uri = os.getenv(\"MONGODB_URI\")\n",
    "\n",
    "# Database configuration\n",
    "client = MongoClient(db_uri, server_api=ServerApi('1'))\n",
    "\n",
    "# Updated database and collection names\n",
    "LizzyAI_ContractsDB = client[\"LizzyAI_Contracts\"]\n",
    "lizzyai_collection = LizzyAI_ContractsDB[\"contracts\"]\n"
   ]
  },
  {
   "cell_type": "code",
   "execution_count": 22,
   "metadata": {},
   "outputs": [],
   "source": [
    "\n",
    "# Load embeddings from MongoDB\n",
    "embeddings, documents = load_embeddings_from_db(lizzyai_collection)\n",
    "\n",
    "# UMAP transformation\n",
    "umap_transform = umap.UMAP(random_state=0, transform_seed=0).fit(embeddings)\n",
    "\n",
    "def project_embeddings(embeddings, umap_transform):\n",
    "    umap_embeddings = np.empty((len(embeddings), 2))\n",
    "    for i, embedding in enumerate(tqdm(embeddings)): \n",
    "        umap_embeddings[i] = umap_transform.transform([embedding])\n",
    "    return umap_embeddings\n",
    "\n",
    "projected_dataset_embeddings = project_embeddings(embeddings, umap_transform)\n",
    "\n",
    "# Visualization of the dataset embeddings\n",
    "plt.figure(figsize=(10, 8))\n",
    "plt.scatter(projected_dataset_embeddings[:, 0], projected_dataset_embeddings[:, 1], s=10, alpha=0.6)\n",
    "plt.gca().set_aspect('equal', 'datalim')\n",
    "plt.title('Dataset Emdeddings', fontsize=14)\n",
    "plt.axis('off')\n",
    "plt.show()\n"
   ]
  },
  {
   "cell_type": "code",
   "execution_count": null,
   "metadata": {},
   "outputs": [
    {
     "name": "stderr",
     "output_type": "stream",
     "text": [
      "100%|██████████| 1/1 [00:00<00:00,  1.15it/s]\n",
      "100%|██████████| 5/5 [00:04<00:00,  1.03it/s]\n"
     ]
    },
    {
     "data": {
      "image/png": "[encoded data removed]",
      "text/plain": [
       "<Figure size 1000x800 with 1 Axes>"
      ]
     },
     "metadata": {},
     "output_type": "display_data"
    }
   ],
   "source": [
    "\n",
    "# Example query\n",
    "query_text = \"Do you know Dereje Hinsermu\"\n",
    "\n",
    "# Retrieve documents\n",
    "retrieved_documents = query_relevant_documents(query_text, vector_store)\n",
    "\n",
    "# Function to print documents nicely\n",
    "def word_wrap(text, width=80):\n",
    "    return '\\n'.join([text[i:i+width] for i in range(0, len(text), width)])\n",
    "\n",
    "# # Print the retrieved documents\n",
    "# for document in retrieved_documents:\n",
    "#     print(word_wrap(document.page_content))\n",
    "#     print('')\n",
    "\n",
    "# Assuming embeddings are included in the documents retrieved\n",
    "# For this example, let's assume the embeddings are part of the 'metadata' attribute\n",
    "retrieved_embeddings = [doc.metadata['embedding'] for doc in retrieved_documents]\n",
    "\n",
    "\n",
    "# Retrieve embeddings for visualization\n",
    "query_embedding = embeddings_model.embed_query(query_text)\n",
    "\n",
    "# Project query and retrieved embeddings\n",
    "projected_query_embedding = project_embeddings([query_embedding], umap_transform)\n",
    "projected_retrieved_embeddings = project_embeddings(retrieved_embeddings, umap_transform)\n",
    "\n",
    "# Visualization of the query and retrieved embeddings\n",
    "plt.figure(figsize=(10, 8))\n",
    "plt.scatter(projected_dataset_embeddings[:, 0], projected_dataset_embeddings[:, 1], s=10, alpha=0.2, label='Dataset Embeddings')\n",
    "plt.scatter(projected_query_embedding[:, 0], projected_query_embedding[:, 1], s=100, c='red', label='Query Embedding')\n",
    "plt.scatter(projected_retrieved_embeddings[:, 0], projected_retrieved_embeddings[:, 1], s=50, c='blue', label='Retrieved Embeddings')\n",
    "plt.gca().set_aspect('equal', 'datalim')\n",
    "plt.title(f'Question:{query_text}', fontsize=14)\n",
    "plt.legend()\n",
    "plt.axis('off')\n",
    "plt.show()\n"
   ]
  },
  {
   "cell_type": "markdown",
   "metadata": {},
   "source": [
    "## Q and A"
   ]
  },
  {
   "cell_type": "code",
   "execution_count": 25,
   "metadata": {},
   "outputs": [
    {
     "name": "stdout",
     "output_type": "stream",
     "text": [
      "The Company owns all worldwide rights, titles, and interests in and to each item of Company Intellectual Property, except for Intellectual Property exclusively licensed to the Company pursuant to an Inbound IP Contract.\n"
     ]
    }
   ],
   "source": [
    "# Generate a response\n",
    "question = \"Who owns the IP\"\n",
    "response = generate_response(question)\n",
    "print(response['result'])"
   ]
  }
 ],
 "metadata": {
  "kernelspec": {
   "display_name": ".week11",
   "language": "python",
   "name": "python3"
  },
  "language_info": {
   "codemirror_mode": {
    "name": "ipython",
    "version": 3
   },
   "file_extension": ".py",
   "mimetype": "text/x-python",
   "name": "python",
   "nbconvert_exporter": "python",
   "pygments_lexer": "ipython3",
   "version": "3.10.2"
  }
 },
 "nbformat": 4,
 "nbformat_minor": 2
}
